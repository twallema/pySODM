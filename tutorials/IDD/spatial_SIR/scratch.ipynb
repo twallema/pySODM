{
 "cells": [
  {
   "cell_type": "code",
   "execution_count": 1,
   "id": "82555259-cb7e-4230-9b9e-5defa01a9746",
   "metadata": {},
   "outputs": [],
   "source": [
    "import numpy as np"
   ]
  },
  {
   "cell_type": "code",
   "execution_count": 2,
   "id": "bd0ac742-7abb-4aba-a952-9f8dc0ef0fb4",
   "metadata": {},
   "outputs": [],
   "source": [
    "S = np.array([[10, 100, 1000],[100, 1000, 10000]])\n",
    "M1 = np.array([[0.5, 0.25, 0.25],[0.25, 0.50, 0.25],[0.25, 0.25, 0.50]])\n",
    "M2 = np.array([[1, 0, 0],[0, 1, 0],[0, 0, 1]])\n",
    "Mstack = np.stack((M1, M2), axis=2)"
   ]
  },
  {
   "cell_type": "code",
   "execution_count": 3,
   "id": "6f970d66-5927-4040-9999-f11c52fcd2a7",
   "metadata": {},
   "outputs": [
    {
     "name": "stdout",
     "output_type": "stream",
     "text": [
      "[[ 280.   302.5  527.5]\n",
      " [2800.  3025.  5275. ]]\n"
     ]
    }
   ],
   "source": [
    "print(S @ M1)"
   ]
  },
  {
   "cell_type": "code",
   "execution_count": 4,
   "id": "e5b7bd20-f3a1-42bc-aaa4-1799662b370a",
   "metadata": {},
   "outputs": [
    {
     "name": "stdout",
     "output_type": "stream",
     "text": [
      "[[ 280.   302.5  527.5]\n",
      " [2800.  3025.  5275. ]]\n"
     ]
    }
   ],
   "source": [
    "M_expanded = np.broadcast_to(np.atleast_3d(M1), (3, 3, 2))\n",
    "Sv = np.einsum('ik,kji->ij', S, M_expanded)\n",
    "print(Sv)"
   ]
  },
  {
   "cell_type": "code",
   "execution_count": 5,
   "id": "8d82334b-93e3-4ec2-9bde-10b855fbed9d",
   "metadata": {},
   "outputs": [
    {
     "name": "stdout",
     "output_type": "stream",
     "text": [
      "[[  280.    302.5   527.5]\n",
      " [  100.   1000.  10000. ]]\n"
     ]
    }
   ],
   "source": [
    "M_expanded = np.broadcast_to(np.atleast_3d(Mstack), (3, 3, 2))\n",
    "Sv = np.einsum('ik,kji->ij', S, M_expanded)\n",
    "print(Sv)"
   ]
  },
  {
   "cell_type": "code",
   "execution_count": 8,
   "id": "1eb4a8d4-79a8-45db-9f35-7041bb452397",
   "metadata": {},
   "outputs": [
    {
     "name": "stdout",
     "output_type": "stream",
     "text": [
      "[[1.66774599 1.69932323 1.03209605 1.15486665 1.3015074 ]\n",
      " [1.96348436 1.82648075 1.24083853 1.526271   1.64955253]\n",
      " [1.95726155 1.88908682 1.52624716 1.75056425 1.84253241]\n",
      " [2.0188896  1.19039821 1.23786125 1.39647585 1.33256348]\n",
      " [1.48061452 1.13696513 1.32585257 1.78506232 1.34314997]\n",
      " [1.68199002 1.44837392 1.11191001 0.97456161 1.11525654]\n",
      " [2.25618926 2.00519101 1.74455024 2.25827405 1.82163469]\n",
      " [1.86784881 1.7511435  1.57177564 1.73109914 1.62390964]\n",
      " [1.81556687 1.39673291 1.37749307 1.57520185 1.80375939]\n",
      " [2.24518886 2.31473638 1.77735021 2.06051645 2.21408796]]\n",
      "[[1.66774599 1.69932323 1.03209605 1.15486665 1.3015074 ]\n",
      " [1.96348436 1.82648075 1.24083853 1.526271   1.64955253]\n",
      " [1.95726155 1.88908682 1.52624716 1.75056425 1.84253241]\n",
      " [2.0188896  1.19039821 1.23786125 1.39647585 1.33256348]\n",
      " [1.48061452 1.13696513 1.32585257 1.78506232 1.34314997]\n",
      " [1.68199002 1.44837392 1.11191001 0.97456161 1.11525654]\n",
      " [2.25618926 2.00519101 1.74455024 2.25827405 1.82163469]\n",
      " [1.86784881 1.7511435  1.57177564 1.73109914 1.62390964]\n",
      " [1.81556687 1.39673291 1.37749307 1.57520185 1.80375939]\n",
      " [2.24518886 2.31473638 1.77735021 2.06051645 2.21408796]]\n"
     ]
    },
    {
     "data": {
      "text/plain": [
       "array([[1.66774599, 1.69932323, 1.03209605, 1.15486665, 1.3015074 ],\n",
       "       [1.96348436, 1.82648075, 1.24083853, 1.526271  , 1.64955253],\n",
       "       [1.95726155, 1.88908682, 1.52624716, 1.75056425, 1.84253241],\n",
       "       [2.0188896 , 1.19039821, 1.23786125, 1.39647585, 1.33256348],\n",
       "       [1.48061452, 1.13696513, 1.32585257, 1.78506232, 1.34314997],\n",
       "       [1.68199002, 1.44837392, 1.11191001, 0.97456161, 1.11525654],\n",
       "       [2.25618926, 2.00519101, 1.74455024, 2.25827405, 1.82163469],\n",
       "       [1.86784881, 1.7511435 , 1.57177564, 1.73109914, 1.62390964],\n",
       "       [1.81556687, 1.39673291, 1.37749307, 1.57520185, 1.80375939],\n",
       "       [2.24518886, 2.31473638, 1.77735021, 2.06051645, 2.21408796]])"
      ]
     },
     "execution_count": 8,
     "metadata": {},
     "output_type": "execute_result"
    }
   ],
   "source": [
    "# define sizes\n",
    "n_age = 10\n",
    "n_space = 5\n",
    "\n",
    "# define test matrices\n",
    "S = np.random.rand(*(n_age, n_space))\n",
    "M_2d = np.random.rand(*(n_space, n_space))\n",
    "M_3d = np.broadcast_to(np.atleast_3d(M_2d), (n_space, n_space, n_age))\n",
    "\n",
    "# define matrix multiplication\n",
    "def mult(S, M, n_age, n_space):\n",
    "    return np.einsum('ik,kji->ij', S, np.broadcast_to(np.atleast_3d(M), (n_space, n_space, n_age)))\n",
    "\n",
    "# try it out\n",
    "print(mult(S, M_2d, n_age, n_space))\n",
    "print(mult(S, M_3d, n_age, n_space))  \n",
    "generalized_matrix_transform(S, M_2d, 0)"
   ]
  },
  {
   "cell_type": "code",
   "execution_count": 99,
   "id": "8ec46c88-4833-4c78-a7b7-4713db633490",
   "metadata": {},
   "outputs": [
    {
     "name": "stdout",
     "output_type": "stream",
     "text": [
      "(10, 5)\n",
      "[[3.29288984 3.74772378 2.83267123 3.39862312 2.83108313]\n",
      " [2.41960994 2.58600059 2.39249892 2.3209429  1.60640578]\n",
      " [2.14181818 2.70332277 2.40009359 2.14684112 1.63758882]\n",
      " [2.8186203  3.0740728  3.25001238 2.87077379 1.87111046]\n",
      " [1.93879989 3.01434913 2.63082601 2.8131129  1.96887555]\n",
      " [3.48398738 3.80333882 3.35133043 2.9490236  2.24755637]\n",
      " [2.07925402 2.40816425 1.94400386 2.38458083 1.26946859]\n",
      " [2.65128536 3.04567165 1.45264121 2.81272636 1.43589964]\n",
      " [2.86462843 2.8876224  2.73210061 2.56939165 2.0714777 ]\n",
      " [2.09263153 2.46768173 1.78372601 1.87862137 1.06103423]]\n"
     ]
    }
   ],
   "source": [
    "# define sizes\n",
    "n_age = 10\n",
    "n_space = 5\n",
    "\n",
    "# define test matrices\n",
    "S = np.random.rand(*(n_age, n_space))\n",
    "N_2d = np.random.rand(*(n_age, n_age))\n",
    "N_3d = np.broadcast_to(np.atleast_3d(N_2d), (n_age, n_age, n_space))\n",
    "\n",
    "# define matrix multiplication\n",
    "def mult_N(S, N, n_age, n_space):\n",
    "    return np.transpose(np.einsum('ik,kji->ij', np.transpose(S), np.broadcast_to(np.atleast_3d(N), (n_age, n_age, n_space))))\n",
    "\n",
    "# try it out\n",
    "print(mult_N(S, N_2d, n_age, n_space).shape)\n",
    "print(mult_N(S, N_3d, n_age, n_space))  "
   ]
  },
  {
   "cell_type": "code",
   "execution_count": 7,
   "id": "3152b8dd-8ecf-4336-b4a7-7395c11f2909",
   "metadata": {},
   "outputs": [],
   "source": [
    "def generalized_matrix_transform(X, W, dim):\n",
    "    \"\"\"\n",
    "    A generalized function to compute a transformed matrix based on a weight matrix.\n",
    "    \n",
    "    This function can be used to compute the number of individuals on every spatial patch post-mobility \n",
    "    or to compute the infection pressure, depending on the interpretation of dimensions.\n",
    "    \n",
    "    Parameters\n",
    "    ==========\n",
    "    X : np.ndarray\n",
    "        Input matrix. Size (n_age, n_location) or (n_group1, n_group2).\n",
    "    W : np.ndarray\n",
    "        Weight matrix. Variable size, either of shape (n_group2, n_group2) (2D case) \n",
    "        or (n_group2, n_group2, n_group1) (3D case).\n",
    "        The 3D case corresponds to having an (n_group2, n_group2)-shaped matrix for each group in the other dimension.\n",
    "    dim : int\n",
    "        The dimension along which the 3D weight matrix is applied. Use 0 for age, 1 for location.\n",
    "    \n",
    "    Returns\n",
    "    =======\n",
    "    X_transformed : np.ndarray\n",
    "        The transformed matrix.\n",
    "        Behavior:\n",
    "            2D-case: equivalent to np.matmul(X, W)\n",
    "            3D-case: equivalent to matrix multiplication Xv_{ij} = sum_{l}[x_{il} * w_{lji}] if dim=0\n",
    "                     or Xv_{ij} = sum_{l}[x_{lj} * w_{lki}] if dim=1\n",
    "    \"\"\"\n",
    "    if dim == 0:\n",
    "        return np.einsum('ik,kji->ij', X, np.broadcast_to(np.atleast_3d(W), (W.shape[0], W.shape[0], X.shape[dim])))\n",
    "    elif dim == 1:\n",
    "        return np.einsum('ki,kjl->ij', X, np.broadcast_to(np.atleast_3d(W), (W.shape[0], W.shape[0], X.shape[dim])))\n",
    "    else:\n",
    "        raise ValueError(\"Invalid dimension. Use 0 for age, 1 for location.\")\n"
   ]
  },
  {
   "cell_type": "code",
   "execution_count": 101,
   "id": "c4bad41c-44f7-4b5d-b086-17b1f1337e67",
   "metadata": {},
   "outputs": [
    {
     "data": {
      "text/plain": [
       "array([[3.29288984, 2.41960994, 2.14181818, 2.8186203 , 1.93879989,\n",
       "        3.48398738, 2.07925402, 2.65128536, 2.86462843, 2.09263153],\n",
       "       [3.74772378, 2.58600059, 2.70332277, 3.0740728 , 3.01434913,\n",
       "        3.80333882, 2.40816425, 3.04567165, 2.8876224 , 2.46768173],\n",
       "       [2.83267123, 2.39249892, 2.40009359, 3.25001238, 2.63082601,\n",
       "        3.35133043, 1.94400386, 1.45264121, 2.73210061, 1.78372601],\n",
       "       [3.39862312, 2.3209429 , 2.14684112, 2.87077379, 2.8131129 ,\n",
       "        2.9490236 , 2.38458083, 2.81272636, 2.56939165, 1.87862137],\n",
       "       [2.83108313, 1.60640578, 1.63758882, 1.87111046, 1.96887555,\n",
       "        2.24755637, 1.26946859, 1.43589964, 2.0714777 , 1.06103423]])"
      ]
     },
     "execution_count": 101,
     "metadata": {},
     "output_type": "execute_result"
    }
   ],
   "source": [
    "generalized_matrix_transform(np.transpose(S), N_2d, 0)"
   ]
  }
 ],
 "metadata": {
  "kernelspec": {
   "display_name": "Python 3 (ipykernel)",
   "language": "python",
   "name": "python3"
  },
  "language_info": {
   "codemirror_mode": {
    "name": "ipython",
    "version": 3
   },
   "file_extension": ".py",
   "mimetype": "text/x-python",
   "name": "python",
   "nbconvert_exporter": "python",
   "pygments_lexer": "ipython3",
   "version": "3.12.3"
  }
 },
 "nbformat": 4,
 "nbformat_minor": 5
}
